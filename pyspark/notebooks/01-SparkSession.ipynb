{
 "cells": [
  {
   "cell_type": "code",
   "execution_count": 1,
   "id": "763dd564-fd9b-4376-9a37-531a97b701a2",
   "metadata": {},
   "outputs": [],
   "source": [
    "from pyspark.sql import SparkSession"
   ]
  },
  {
   "cell_type": "code",
   "execution_count": 2,
   "id": "a0e38117-10e3-4e97-9452-e4b2c6ac8cdd",
   "metadata": {},
   "outputs": [],
   "source": [
    "# main process to start a spark from pyspark api\n",
    "# if context exists, SparkSession not create other session, use the existing session\n",
    "spark = SparkSession.builder.getOrCreate()"
   ]
  },
  {
   "cell_type": "code",
   "execution_count": 4,
   "id": "b1b9ac26-64e4-43ef-aeb5-3dbaf7bfe638",
   "metadata": {},
   "outputs": [],
   "source": [
    "df = spark.sql(\"SELECT 'Marilzon is a data specialist engineer' as intro\")"
   ]
  },
  {
   "cell_type": "code",
   "execution_count": 5,
   "id": "de49281c-c1a1-4091-9b31-46660ded9d73",
   "metadata": {},
   "outputs": [
    {
     "name": "stdout",
     "output_type": "stream",
     "text": [
      "+--------------------+\n",
      "|               intro|\n",
      "+--------------------+\n",
      "|Marilzon is a dat...|\n",
      "+--------------------+\n",
      "\n"
     ]
    }
   ],
   "source": [
    "df.show()"
   ]
  }
 ],
 "metadata": {
  "kernelspec": {
   "display_name": "Python 3 (ipykernel)",
   "language": "python",
   "name": "python3"
  },
  "language_info": {
   "codemirror_mode": {
    "name": "ipython",
    "version": 3
   },
   "file_extension": ".py",
   "mimetype": "text/x-python",
   "name": "python",
   "nbconvert_exporter": "python",
   "pygments_lexer": "ipython3",
   "version": "3.11.6"
  }
 },
 "nbformat": 4,
 "nbformat_minor": 5
}
