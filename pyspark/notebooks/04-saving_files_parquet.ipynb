{
 "cells": [
  {
   "cell_type": "code",
   "execution_count": 1,
   "id": "543f947f-ea28-4db7-bd6c-bd9b476f2dbd",
   "metadata": {},
   "outputs": [],
   "source": [
    "from pyspark.sql import SparkSession\n",
    "\n",
    "spark = SparkSession.builder.getOrCreate()"
   ]
  },
  {
   "cell_type": "code",
   "execution_count": 2,
   "id": "2f7eae52-6408-4356-b17e-75f753b75b0e",
   "metadata": {},
   "outputs": [],
   "source": [
    "json_path = json_path = \"/data/wine_json.json\"\n",
    "\n",
    "df = spark.read.format(\"json\").load(json_path)\n",
    "\n",
    "# Writing to parquet format\n",
    "\n",
    "output_parquet = \"/data/wine_reviews.parquet\"\n",
    "\n",
    "# if data already exists, overwrite this\n",
    "# other modes is append, error, ignore\n",
    "df.write.mode(\"overwrite\").format(\"parquet\").save(output_parquet)\n",
    "\n",
    "output_parquet = \"/data/wine_reviews.parquet\"\n",
    "(\n",
    "    df.write.mode(\"overwrite\")\n",
    "    .format(\"parquet\")\n",
    "    .partitionBy(\"variety\")\n",
    "    .save(output_parquet)\n",
    ")"
   ]
  }
 ],
 "metadata": {
  "kernelspec": {
   "display_name": "Python 3 (ipykernel)",
   "language": "python",
   "name": "python3"
  },
  "language_info": {
   "codemirror_mode": {
    "name": "ipython",
    "version": 3
   },
   "file_extension": ".py",
   "mimetype": "text/x-python",
   "name": "python",
   "nbconvert_exporter": "python",
   "pygments_lexer": "ipython3",
   "version": "3.11.6"
  }
 },
 "nbformat": 4,
 "nbformat_minor": 5
}
