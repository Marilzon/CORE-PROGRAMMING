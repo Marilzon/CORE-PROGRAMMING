{
 "cells": [
  {
   "cell_type": "code",
   "execution_count": 1,
   "id": "3e21f935-3a70-4faf-81b2-bfcce47a05e2",
   "metadata": {},
   "outputs": [],
   "source": [
    "import requests \n",
    "import os\n"
   ]
  },
  {
   "cell_type": "code",
   "execution_count": 2,
   "id": "48eb1e99-f10b-43e1-b0b5-8c8844fcd267",
   "metadata": {},
   "outputs": [],
   "source": [
    "os.makedirs(\"/data\", exist_ok=True)"
   ]
  },
  {
   "cell_type": "code",
   "execution_count": 3,
   "id": "f631aec2-d404-4a97-a4aa-6ef2e6c382cc",
   "metadata": {},
   "outputs": [],
   "source": [
    "csv_wine_url = \"http://tinyurl.com/winemag-reviews-csv\"\n",
    "json_wine_url = \"http://tinyurl.com/winemag-reviews-json\"\n",
    "\n",
    "def write_file_from_url(url, name, file_format):\n",
    "    with open(\"/data/\" + name + \".\" + file_format, \"wb\") as file:\n",
    "        file.write(requests.get(url).content)\n",
    "\n",
    "write_file_from_url(csv_wine_url, \"wine_csv\", \"csv\")\n",
    "write_file_from_url(json_wine_url, \"wine_json\", \"json\")"
   ]
  },
  {
   "cell_type": "code",
   "execution_count": null,
   "id": "56801f80-bc29-488d-a7a0-5a8fca2f9498",
   "metadata": {},
   "outputs": [],
   "source": []
  }
 ],
 "metadata": {
  "kernelspec": {
   "display_name": "Python 3 (ipykernel)",
   "language": "python",
   "name": "python3"
  },
  "language_info": {
   "codemirror_mode": {
    "name": "ipython",
    "version": 3
   },
   "file_extension": ".py",
   "mimetype": "text/x-python",
   "name": "python",
   "nbconvert_exporter": "python",
   "pygments_lexer": "ipython3",
   "version": "3.11.6"
  }
 },
 "nbformat": 4,
 "nbformat_minor": 5
}
